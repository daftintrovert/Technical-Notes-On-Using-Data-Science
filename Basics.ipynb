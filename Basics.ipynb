{
 "cells": [
  {
   "cell_type": "code",
   "execution_count": 2,
   "metadata": {},
   "outputs": [
    {
     "data": {
      "text/plain": [
       "array([[33.,  0.,  0.,  1.],\n",
       "       [12.,  0.,  1.,  0.],\n",
       "       [18.,  1.,  0.,  0.]])"
      ]
     },
     "execution_count": 2,
     "metadata": {},
     "output_type": "execute_result"
    }
   ],
   "source": [
    "#Loading Features From Dictionaries\n",
    "\n",
    "from sklearn.feature_extraction import DictVectorizer\n",
    "\n",
    "staff = [{'name': 'Steve Miller', 'age': 33.},\n",
    "         {'name': 'Lyndon Jones', 'age': 12.},\n",
    "         {'name': 'Baxter Morth', 'age': 18.}]\n",
    "\n",
    "# Create an object for our dictionary vectorizer\n",
    "vec = DictVectorizer()\n",
    "\n",
    "# Fit then transform the staff dictionary with vec, then output an array\n",
    "vec.fit_transform(staff).toarray()"
   ]
  },
  {
   "cell_type": "code",
   "execution_count": 3,
   "metadata": {},
   "outputs": [
    {
     "data": {
      "text/plain": [
       "['age', 'name=Baxter Morth', 'name=Lyndon Jones', 'name=Steve Miller']"
      ]
     },
     "execution_count": 3,
     "metadata": {},
     "output_type": "execute_result"
    }
   ],
   "source": [
    "# Get Feature Names\n",
    "vec.get_feature_names()"
   ]
  },
  {
   "cell_type": "code",
   "execution_count": 4,
   "metadata": {},
   "outputs": [],
   "source": [
    "#Make Simulated Data For Clustering\n",
    "\n",
    "from sklearn.datasets import make_blobs\n",
    "import matplotlib.pyplot as plt"
   ]
  },
  {
   "cell_type": "code",
   "execution_count": 7,
   "metadata": {},
   "outputs": [],
   "source": [
    "# Make the features (X) and output (y) with 200 samples,\n",
    "X, y = make_blobs(n_samples = 200,\n",
    "                  # two feature variables,\n",
    "                  n_features = 2,\n",
    "                  # three clusters,\n",
    "                  centers = 3,\n",
    "                  # with .5 cluster standard deviation,\n",
    "                  cluster_std = 0.5,\n",
    "                  # shuffled,\n",
    "                  shuffle = True)"
   ]
  },
  {
   "cell_type": "code",
   "execution_count": 9,
   "metadata": {},
   "outputs": [
    {
     "data": {
      "image/png": "[encoded data removed]",
      "text/plain": [
       "<Figure size 432x288 with 1 Axes>"
      ]
     },
     "metadata": {
      "needs_background": "light"
     },
     "output_type": "display_data"
    }
   ],
   "source": [
    "# Create a scatterplot of the first and second features\n",
    "plt.scatter(X[:,0],\n",
    "            X[:,1],color = 'lime')\n",
    "\n",
    "# Show the scatterplot\n",
    "plt.show()"
   ]
  },
  {
   "cell_type": "code",
   "execution_count": 10,
   "metadata": {},
   "outputs": [],
   "source": [
    "#Loading scikit-learn's Boston Housing Dataset\n",
    "\n",
    "# Load libraries\n",
    "from sklearn import datasets\n",
    "import matplotlib.pyplot as plt "
   ]
  },
  {
   "cell_type": "code",
   "execution_count": 11,
   "metadata": {},
   "outputs": [
    {
     "data": {
      "text/plain": [
       "array([6.320e-03, 1.800e+01, 2.310e+00, 0.000e+00, 5.380e-01, 6.575e+00,\n",
       "       6.520e+01, 4.090e+00, 1.000e+00, 2.960e+02, 1.530e+01, 3.969e+02,\n",
       "       4.980e+00])"
      ]
     },
     "execution_count": 11,
     "metadata": {},
     "output_type": "execute_result"
    }
   ],
   "source": [
    "# Load digits dataset\n",
    "boston = datasets.load_boston()\n",
    "\n",
    "# Create feature matrix\n",
    "X = boston.data\n",
    "\n",
    "# Create target vector\n",
    "y = boston.target\n",
    "\n",
    "# View the first observation's feature values\n",
    "X[0]"
   ]
  },
  {
   "cell_type": "code",
   "execution_count": 12,
   "metadata": {},
   "outputs": [
    {
     "data": {
      "text/plain": [
       "['0.006320',\n",
       " '18.000000',\n",
       " '2.310000',\n",
       " '0.000000',\n",
       " '0.538000',\n",
       " '6.575000',\n",
       " '65.200000',\n",
       " '4.090000',\n",
       " '1.000000',\n",
       " '296.000000',\n",
       " '15.300000',\n",
       " '396.900000',\n",
       " '4.980000']"
      ]
     },
     "execution_count": 12,
     "metadata": {},
     "output_type": "execute_result"
    }
   ],
   "source": [
    "# Display each feature value of the first observation as floats\n",
    "['{:f}'.format(x) for x in X[0]]"
   ]
  },
  {
   "cell_type": "code",
   "execution_count": 13,
   "metadata": {},
   "outputs": [],
   "source": [
    "#Make Simulated Data For Regression\n",
    "\n",
    "import pandas as pd\n",
    "from sklearn.datasets import make_regression"
   ]
  },
  {
   "cell_type": "code",
   "execution_count": 14,
   "metadata": {},
   "outputs": [],
   "source": [
    "# Generate fetures, outputs, and true coefficient of 100 samples,\n",
    "features, output, coef = make_regression(n_samples = 100,\n",
    "                                         # three features\n",
    "                                         n_features = 3,\n",
    "                                         # where only two features are useful,\n",
    "                                         n_informative = 2,\n",
    "                                         # a single target value per observation\n",
    "                                         n_targets = 1,\n",
    "                                         # 0.0 standard deviation of the guassian noise\n",
    "                                         noise = 0.0,\n",
    "                                         # show the true coefficient used to generated the data\n",
    "                                         coef = True)"
   ]
  },
  {
   "cell_type": "code",
   "execution_count": 15,
   "metadata": {},
   "outputs": [
    {
     "data": {
      "text/html": [
       "<div>\n",
       "<style scoped>\n",
       "    .dataframe tbody tr th:only-of-type {\n",
       "        vertical-align: middle;\n",
       "    }\n",
       "\n",
       "    .dataframe tbody tr th {\n",
       "        vertical-align: top;\n",
       "    }\n",
       "\n",
       "    .dataframe thead th {\n",
       "        text-align: right;\n",
       "    }\n",
       "</style>\n",
       "<table border=\"1\" class=\"dataframe\">\n",
       "  <thead>\n",
       "    <tr style=\"text-align: right;\">\n",
       "      <th></th>\n",
       "      <th>Store 1</th>\n",
       "      <th>Store 2</th>\n",
       "      <th>Store 3</th>\n",
       "    </tr>\n",
       "  </thead>\n",
       "  <tbody>\n",
       "    <tr>\n",
       "      <th>0</th>\n",
       "      <td>1.232771</td>\n",
       "      <td>0.240049</td>\n",
       "      <td>-1.388268</td>\n",
       "    </tr>\n",
       "    <tr>\n",
       "      <th>1</th>\n",
       "      <td>0.478535</td>\n",
       "      <td>2.546452</td>\n",
       "      <td>0.808995</td>\n",
       "    </tr>\n",
       "    <tr>\n",
       "      <th>2</th>\n",
       "      <td>2.048102</td>\n",
       "      <td>-0.610963</td>\n",
       "      <td>-0.100562</td>\n",
       "    </tr>\n",
       "    <tr>\n",
       "      <th>3</th>\n",
       "      <td>0.758700</td>\n",
       "      <td>-1.816095</td>\n",
       "      <td>0.431792</td>\n",
       "    </tr>\n",
       "    <tr>\n",
       "      <th>4</th>\n",
       "      <td>-0.498917</td>\n",
       "      <td>1.052835</td>\n",
       "      <td>-1.364644</td>\n",
       "    </tr>\n",
       "  </tbody>\n",
       "</table>\n",
       "</div>"
      ],
      "text/plain": [
       "    Store 1   Store 2   Store 3\n",
       "0  1.232771  0.240049 -1.388268\n",
       "1  0.478535  2.546452  0.808995\n",
       "2  2.048102 -0.610963 -0.100562\n",
       "3  0.758700 -1.816095  0.431792\n",
       "4 -0.498917  1.052835 -1.364644"
      ]
     },
     "execution_count": 15,
     "metadata": {},
     "output_type": "execute_result"
    }
   ],
   "source": [
    "# View the features of the first five rows\n",
    "pd.DataFrame(features, columns=['Store 1', 'Store 2', 'Store 3']).head()"
   ]
  },
  {
   "cell_type": "code",
   "execution_count": 16,
   "metadata": {},
   "outputs": [
    {
     "data": {
      "text/html": [
       "<div>\n",
       "<style scoped>\n",
       "    .dataframe tbody tr th:only-of-type {\n",
       "        vertical-align: middle;\n",
       "    }\n",
       "\n",
       "    .dataframe tbody tr th {\n",
       "        vertical-align: top;\n",
       "    }\n",
       "\n",
       "    .dataframe thead th {\n",
       "        text-align: right;\n",
       "    }\n",
       "</style>\n",
       "<table border=\"1\" class=\"dataframe\">\n",
       "  <thead>\n",
       "    <tr style=\"text-align: right;\">\n",
       "      <th></th>\n",
       "      <th>Sales</th>\n",
       "    </tr>\n",
       "  </thead>\n",
       "  <tbody>\n",
       "    <tr>\n",
       "      <th>0</th>\n",
       "      <td>66.822641</td>\n",
       "    </tr>\n",
       "    <tr>\n",
       "      <th>1</th>\n",
       "      <td>237.429866</td>\n",
       "    </tr>\n",
       "    <tr>\n",
       "      <th>2</th>\n",
       "      <td>23.967419</td>\n",
       "    </tr>\n",
       "    <tr>\n",
       "      <th>3</th>\n",
       "      <td>-128.171865</td>\n",
       "    </tr>\n",
       "    <tr>\n",
       "      <th>4</th>\n",
       "      <td>72.093712</td>\n",
       "    </tr>\n",
       "  </tbody>\n",
       "</table>\n",
       "</div>"
      ],
      "text/plain": [
       "        Sales\n",
       "0   66.822641\n",
       "1  237.429866\n",
       "2   23.967419\n",
       "3 -128.171865\n",
       "4   72.093712"
      ]
     },
     "execution_count": 16,
     "metadata": {},
     "output_type": "execute_result"
    }
   ],
   "source": [
    "# View the output of the first five rows\n",
    "pd.DataFrame(output, columns=['Sales']).head()"
   ]
  },
  {
   "cell_type": "code",
   "execution_count": 17,
   "metadata": {},
   "outputs": [
    {
     "data": {
      "text/html": [
       "<div>\n",
       "<style scoped>\n",
       "    .dataframe tbody tr th:only-of-type {\n",
       "        vertical-align: middle;\n",
       "    }\n",
       "\n",
       "    .dataframe tbody tr th {\n",
       "        vertical-align: top;\n",
       "    }\n",
       "\n",
       "    .dataframe thead th {\n",
       "        text-align: right;\n",
       "    }\n",
       "</style>\n",
       "<table border=\"1\" class=\"dataframe\">\n",
       "  <thead>\n",
       "    <tr style=\"text-align: right;\">\n",
       "      <th></th>\n",
       "      <th>True Coefficient Values</th>\n",
       "    </tr>\n",
       "  </thead>\n",
       "  <tbody>\n",
       "    <tr>\n",
       "      <th>0</th>\n",
       "      <td>37.418589</td>\n",
       "    </tr>\n",
       "    <tr>\n",
       "      <th>1</th>\n",
       "      <td>86.207700</td>\n",
       "    </tr>\n",
       "    <tr>\n",
       "      <th>2</th>\n",
       "      <td>0.000000</td>\n",
       "    </tr>\n",
       "  </tbody>\n",
       "</table>\n",
       "</div>"
      ],
      "text/plain": [
       "   True Coefficient Values\n",
       "0                37.418589\n",
       "1                86.207700\n",
       "2                 0.000000"
      ]
     },
     "execution_count": 17,
     "metadata": {},
     "output_type": "execute_result"
    }
   ],
   "source": [
    "# View the actual, true coefficients used to generate the data\n",
    "pd.DataFrame(coef, columns=['True Coefficient Values'])"
   ]
  },
  {
   "cell_type": "code",
   "execution_count": 18,
   "metadata": {},
   "outputs": [],
   "source": [
    "#Loading scikit-learn's Digits Dataset\n",
    "\n",
    "# Load libraries\n",
    "from sklearn import datasets\n",
    "import matplotlib.pyplot as plt "
   ]
  },
  {
   "cell_type": "code",
   "execution_count": 19,
   "metadata": {},
   "outputs": [
    {
     "data": {
      "text/plain": [
       "array([ 0.,  0.,  5., 13.,  9.,  1.,  0.,  0.,  0.,  0., 13., 15., 10.,\n",
       "       15.,  5.,  0.,  0.,  3., 15.,  2.,  0., 11.,  8.,  0.,  0.,  4.,\n",
       "       12.,  0.,  0.,  8.,  8.,  0.,  0.,  5.,  8.,  0.,  0.,  9.,  8.,\n",
       "        0.,  0.,  4., 11.,  0.,  1., 12.,  7.,  0.,  0.,  2., 14.,  5.,\n",
       "       10., 12.,  0.,  0.,  0.,  0.,  6., 13., 10.,  0.,  0.,  0.])"
      ]
     },
     "execution_count": 19,
     "metadata": {},
     "output_type": "execute_result"
    }
   ],
   "source": [
    "# Load digits dataset\n",
    "digits = datasets.load_digits()\n",
    "\n",
    "# Create feature matrix\n",
    "X = digits.data\n",
    "\n",
    "# Create target vector\n",
    "y = digits.target\n",
    "\n",
    "# View the first observation's feature values\n",
    "X[0]"
   ]
  },
  {
   "cell_type": "code",
   "execution_count": 20,
   "metadata": {},
   "outputs": [
    {
     "data": {
      "text/plain": [
       "array([[ 0.,  0.,  5., 13.,  9.,  1.,  0.,  0.],\n",
       "       [ 0.,  0., 13., 15., 10., 15.,  5.,  0.],\n",
       "       [ 0.,  3., 15.,  2.,  0., 11.,  8.,  0.],\n",
       "       [ 0.,  4., 12.,  0.,  0.,  8.,  8.,  0.],\n",
       "       [ 0.,  5.,  8.,  0.,  0.,  9.,  8.,  0.],\n",
       "       [ 0.,  4., 11.,  0.,  1., 12.,  7.,  0.],\n",
       "       [ 0.,  2., 14.,  5., 10., 12.,  0.,  0.],\n",
       "       [ 0.,  0.,  6., 13., 10.,  0.,  0.,  0.]])"
      ]
     },
     "execution_count": 20,
     "metadata": {},
     "output_type": "execute_result"
    }
   ],
   "source": [
    "# View the first observation's feature values as a matrix\n",
    "digits.images[0]"
   ]
  },
  {
   "cell_type": "code",
   "execution_count": 21,
   "metadata": {},
   "outputs": [
    {
     "data": {
      "text/plain": [
       "<Figure size 432x288 with 0 Axes>"
      ]
     },
     "metadata": {},
     "output_type": "display_data"
    },
    {
     "data": {
      "image/png": "[encoded data removed]",
      "text/plain": [
       "<Figure size 288x288 with 1 Axes>"
      ]
     },
     "metadata": {
      "needs_background": "light"
     },
     "output_type": "display_data"
    }
   ],
   "source": [
    "# Visualize the first observation's feature values as an image\n",
    "plt.gray() \n",
    "plt.matshow(digits.images[0]) \n",
    "plt.show()"
   ]
  },
  {
   "cell_type": "code",
   "execution_count": 22,
   "metadata": {},
   "outputs": [],
   "source": [
    "#Perceptron In Scikit\n",
    "\n",
    "# Load required libraries\n",
    "from sklearn import datasets\n",
    "from sklearn.preprocessing import StandardScaler\n",
    "from sklearn.linear_model import Perceptron\n",
    "from sklearn.model_selection import train_test_split\n",
    "from sklearn.metrics import accuracy_score\n",
    "import numpy as np"
   ]
  },
  {
   "cell_type": "code",
   "execution_count": 23,
   "metadata": {},
   "outputs": [],
   "source": [
    "# Load the iris dataset\n",
    "iris = datasets.load_iris()\n",
    "\n",
    "# Create our X and y data\n",
    "X = iris.data\n",
    "y = iris.target"
   ]
  },
  {
   "cell_type": "code",
   "execution_count": 24,
   "metadata": {},
   "outputs": [
    {
     "data": {
      "text/plain": [
       "array([0, 0, 0, 0, 0])"
      ]
     },
     "execution_count": 24,
     "metadata": {},
     "output_type": "execute_result"
    }
   ],
   "source": [
    "# View the first five observations of our y data\n",
    "y[:5]"
   ]
  },
  {
   "cell_type": "code",
   "execution_count": 25,
   "metadata": {},
   "outputs": [
    {
     "data": {
      "text/plain": [
       "array([[5.1, 3.5, 1.4, 0.2],\n",
       "       [4.9, 3. , 1.4, 0.2],\n",
       "       [4.7, 3.2, 1.3, 0.2],\n",
       "       [4.6, 3.1, 1.5, 0.2],\n",
       "       [5. , 3.6, 1.4, 0.2]])"
      ]
     },
     "execution_count": 25,
     "metadata": {},
     "output_type": "execute_result"
    }
   ],
   "source": [
    "# View the first five observations of our x data.\n",
    "# Notice that there are four independent variables (features)\n",
    "X[:5]"
   ]
  },
  {
   "cell_type": "code",
   "execution_count": 26,
   "metadata": {},
   "outputs": [],
   "source": [
    "# Split the data into 70% training data and 30% test data\n",
    "X_train, X_test, y_train, y_test = train_test_split(X, y, test_size=0.3)"
   ]
  },
  {
   "cell_type": "code",
   "execution_count": 27,
   "metadata": {},
   "outputs": [
    {
     "data": {
      "text/plain": [
       "StandardScaler(copy=True, with_mean=True, with_std=True)"
      ]
     },
     "execution_count": 27,
     "metadata": {},
     "output_type": "execute_result"
    }
   ],
   "source": [
    "# Train the scaler, which standarizes all the features to have mean=0 and unit variance\n",
    "sc = StandardScaler()\n",
    "sc.fit(X_train)"
   ]
  },
  {
   "cell_type": "code",
   "execution_count": 28,
   "metadata": {},
   "outputs": [],
   "source": [
    "# Apply the scaler to the X training data\n",
    "X_train_std = sc.transform(X_train)\n",
    "\n",
    "# Apply the SAME scaler to the X test data\n",
    "X_test_std = sc.transform(X_test)"
   ]
  },
  {
   "cell_type": "code",
   "execution_count": 29,
   "metadata": {},
   "outputs": [
    {
     "name": "stderr",
     "output_type": "stream",
     "text": [
      "C:\\Users\\hp\\Anaconda3\\lib\\site-packages\\sklearn\\linear_model\\stochastic_gradient.py:152: DeprecationWarning: n_iter parameter is deprecated in 0.19 and will be removed in 0.21. Use max_iter and tol instead.\n",
      "  DeprecationWarning)\n"
     ]
    },
    {
     "data": {
      "text/plain": [
       "Perceptron(alpha=0.0001, class_weight=None, early_stopping=False, eta0=0.1,\n",
       "      fit_intercept=True, max_iter=None, n_iter=40, n_iter_no_change=5,\n",
       "      n_jobs=None, penalty=None, random_state=0, shuffle=True, tol=None,\n",
       "      validation_fraction=0.1, verbose=0, warm_start=False)"
      ]
     },
     "execution_count": 29,
     "metadata": {},
     "output_type": "execute_result"
    }
   ],
   "source": [
    "# Create a perceptron object with the parameters: 40 iterations (epochs) over the data, and a learning rate of 0.1\n",
    "ppn = Perceptron(n_iter=40, eta0=0.1, random_state=0)\n",
    "\n",
    "# Train the perceptron\n",
    "ppn.fit(X_train_std, y_train)"
   ]
  },
  {
   "cell_type": "code",
   "execution_count": 30,
   "metadata": {},
   "outputs": [],
   "source": [
    "# Apply the trained perceptron on the X data to make predicts for the y test data\n",
    "y_pred = ppn.predict(X_test_std)"
   ]
  },
  {
   "cell_type": "code",
   "execution_count": 31,
   "metadata": {},
   "outputs": [
    {
     "data": {
      "text/plain": [
       "array([2, 0, 0, 0, 1, 0, 1, 1, 1, 2, 0, 1, 1, 1, 0, 0, 1, 0, 0, 0, 0, 1,\n",
       "       0, 2, 1, 0, 2, 0, 0, 2, 1, 1, 2, 2, 1, 0, 1, 1, 2, 2, 2, 2, 0, 1,\n",
       "       0])"
      ]
     },
     "execution_count": 31,
     "metadata": {},
     "output_type": "execute_result"
    }
   ],
   "source": [
    "# View the predicted y test data\n",
    "y_pred"
   ]
  },
  {
   "cell_type": "code",
   "execution_count": 32,
   "metadata": {},
   "outputs": [
    {
     "data": {
      "text/plain": [
       "array([2, 1, 0, 0, 1, 0, 1, 1, 1, 2, 0, 1, 1, 1, 0, 0, 1, 0, 0, 1, 0, 1,\n",
       "       1, 2, 1, 0, 2, 1, 0, 2, 2, 0, 2, 2, 2, 0, 1, 2, 2, 2, 2, 2, 0, 1,\n",
       "       1])"
      ]
     },
     "execution_count": 32,
     "metadata": {},
     "output_type": "execute_result"
    }
   ],
   "source": [
    "# View the true y test data\n",
    "y_test"
   ]
  },
  {
   "cell_type": "code",
   "execution_count": 33,
   "metadata": {},
   "outputs": [
    {
     "name": "stdout",
     "output_type": "stream",
     "text": [
      "Accuracy: 0.80\n"
     ]
    }
   ],
   "source": [
    "# View the accuracy of the model, which is: 1 - (observations predicted wrong / total observations)\n",
    "print('Accuracy: %.2f' % accuracy_score(y_test, y_pred))"
   ]
  },
  {
   "cell_type": "code",
   "execution_count": 34,
   "metadata": {},
   "outputs": [
    {
     "data": {
      "text/plain": [
       "array([5.1, 3.5, 1.4, 0.2])"
      ]
     },
     "execution_count": 34,
     "metadata": {},
     "output_type": "execute_result"
    }
   ],
   "source": [
    "#Loading scikit-learn's Iris Dataset\n",
    "\n",
    "# Load digits dataset\n",
    "iris = datasets.load_iris()\n",
    "\n",
    "# Create feature matrix\n",
    "X = iris.data\n",
    "\n",
    "# Create target vector\n",
    "y = iris.target\n",
    "\n",
    "# View the first observation's feature values\n",
    "X[0]"
   ]
  },
  {
   "cell_type": "code",
   "execution_count": 35,
   "metadata": {},
   "outputs": [],
   "source": [
    "#Saving Machine Learning Models\n",
    "\n",
    "from sklearn.linear_model import LogisticRegression\n",
    "from sklearn import datasets\n",
    "import pickle\n",
    "from sklearn.externals import joblib"
   ]
  },
  {
   "cell_type": "code",
   "execution_count": 36,
   "metadata": {},
   "outputs": [],
   "source": [
    "# Load the iris data\n",
    "iris = datasets.load_iris()\n",
    "\n",
    "# Create a matrix, X, of features and a vector, y.\n",
    "X, y = iris.data, iris.target"
   ]
  },
  {
   "cell_type": "code",
   "execution_count": 37,
   "metadata": {},
   "outputs": [
    {
     "name": "stderr",
     "output_type": "stream",
     "text": [
      "C:\\Users\\hp\\Anaconda3\\lib\\site-packages\\sklearn\\linear_model\\logistic.py:433: FutureWarning: Default solver will be changed to 'lbfgs' in 0.22. Specify a solver to silence this warning.\n",
      "  FutureWarning)\n",
      "C:\\Users\\hp\\Anaconda3\\lib\\site-packages\\sklearn\\linear_model\\logistic.py:460: FutureWarning: Default multi_class will be changed to 'auto' in 0.22. Specify the multi_class option to silence this warning.\n",
      "  \"this warning.\", FutureWarning)\n"
     ]
    },
    {
     "data": {
      "text/plain": [
       "LogisticRegression(C=1.0, class_weight=None, dual=False, fit_intercept=True,\n",
       "          intercept_scaling=1, max_iter=100, multi_class='warn',\n",
       "          n_jobs=None, penalty='l2', random_state=0, solver='warn',\n",
       "          tol=0.0001, verbose=0, warm_start=False)"
      ]
     },
     "execution_count": 37,
     "metadata": {},
     "output_type": "execute_result"
    }
   ],
   "source": [
    "# Train a naive logistic regression model\n",
    "clf = LogisticRegression(random_state=0)\n",
    "clf.fit(X, y)  "
   ]
  },
  {
   "cell_type": "code",
   "execution_count": 38,
   "metadata": {},
   "outputs": [],
   "source": [
    "# Save the trained model as a pickle string.\n",
    "saved_model = pickle.dumps(clf)"
   ]
  },
  {
   "cell_type": "code",
   "execution_count": 39,
   "metadata": {},
   "outputs": [
    {
     "data": {
      "text/plain": [
       "b'\\x80\\x03csklearn.linear_model.logistic\\nLogisticRegression\\nq\\x00)\\x81q\\x01}q\\x02(X\\x07\\x00\\x00\\x00penaltyq\\x03X\\x02\\x00\\x00\\x00l2q\\x04X\\x04\\x00\\x00\\x00dualq\\x05\\x89X\\x03\\x00\\x00\\x00tolq\\x06G?\\x1a6\\xe2\\xeb\\x1cC-X\\x01\\x00\\x00\\x00Cq\\x07G?\\xf0\\x00\\x00\\x00\\x00\\x00\\x00X\\r\\x00\\x00\\x00fit_interceptq\\x08\\x88X\\x11\\x00\\x00\\x00intercept_scalingq\\tK\\x01X\\x0c\\x00\\x00\\x00class_weightq\\nNX\\x0c\\x00\\x00\\x00random_stateq\\x0bK\\x00X\\x06\\x00\\x00\\x00solverq\\x0cX\\x04\\x00\\x00\\x00warnq\\rX\\x08\\x00\\x00\\x00max_iterq\\x0eKdX\\x0b\\x00\\x00\\x00multi_classq\\x0fh\\rX\\x07\\x00\\x00\\x00verboseq\\x10K\\x00X\\n\\x00\\x00\\x00warm_startq\\x11\\x89X\\x06\\x00\\x00\\x00n_jobsq\\x12NX\\x08\\x00\\x00\\x00classes_q\\x13cnumpy.core.multiarray\\n_reconstruct\\nq\\x14cnumpy\\nndarray\\nq\\x15K\\x00\\x85q\\x16C\\x01bq\\x17\\x87q\\x18Rq\\x19(K\\x01K\\x03\\x85q\\x1acnumpy\\ndtype\\nq\\x1bX\\x02\\x00\\x00\\x00i4q\\x1cK\\x00K\\x01\\x87q\\x1dRq\\x1e(K\\x03X\\x01\\x00\\x00\\x00<q\\x1fNNNJ\\xff\\xff\\xff\\xffJ\\xff\\xff\\xff\\xffK\\x00tq b\\x89C\\x0c\\x00\\x00\\x00\\x00\\x01\\x00\\x00\\x00\\x02\\x00\\x00\\x00q!tq\"bX\\x05\\x00\\x00\\x00coef_q#h\\x14h\\x15K\\x00\\x85q$h\\x17\\x87q%Rq&(K\\x01K\\x03K\\x04\\x86q\\'h\\x1bX\\x02\\x00\\x00\\x00f8q(K\\x00K\\x01\\x87q)Rq*(K\\x03h\\x1fNNNJ\\xff\\xff\\xff\\xffJ\\xff\\xff\\xff\\xffK\\x00tq+b\\x88C`\\x1d ?T\\xff@\\xda?ea5nM\\\\\\xdb?xz\\xa2\\x86\\xfbQ\\xfb\\xbf\\x0fh|N5m\\xf7?<\\xfb$3:\\xcb\\xf9\\xbf\\xb3\\x99m\\xbff\\x8c\\xf8\\xbfy\\xc8\\x01\\x01\\x8c\\x14\\x02\\xc0q\\xc9\\xc4e\\x18m\\xe2?\\xccs\\x82\\xa2\\x8a\\xc4\\x03@a\\xf08\\xe4(V\\xf0\\xbf\\x95[}\\x85\\xaf\\x7f\\xf6\\xbf\\x04M#\\nfq\\x04@q,tq-bX\\n\\x00\\x00\\x00intercept_q.h\\x14h\\x15K\\x00\\x85q/h\\x17\\x87q0Rq1(K\\x01K\\x03\\x85q2h*\\x89C\\x18\\xb2~?\\xd6\\xf4\\xe8\\xd0?/\\xd4\\xfc\\'\\xb7\\x80\\xf1?\\x11\\xc3\\xdc\\xe0ro\\xf3\\xbfq3tq4bX\\x07\\x00\\x00\\x00n_iter_q5h\\x14h\\x15K\\x00\\x85q6h\\x17\\x87q7Rq8(K\\x01K\\x01\\x85q9h\\x1bX\\x02\\x00\\x00\\x00i4q:K\\x00K\\x01\\x87q;Rq<(K\\x03h\\x1fNNNJ\\xff\\xff\\xff\\xffJ\\xff\\xff\\xff\\xffK\\x00tq=b\\x89C\\x04\\x07\\x00\\x00\\x00q>tq?bX\\x10\\x00\\x00\\x00_sklearn_versionq@X\\x06\\x00\\x00\\x000.20.1qAub.'"
      ]
     },
     "execution_count": 39,
     "metadata": {},
     "output_type": "execute_result"
    }
   ],
   "source": [
    "# View the pickled model\n",
    "saved_model"
   ]
  },
  {
   "cell_type": "code",
   "execution_count": 40,
   "metadata": {},
   "outputs": [
    {
     "data": {
      "text/plain": [
       "array([0, 0, 0, 0, 0, 0, 0, 0, 0, 0, 0, 0, 0, 0, 0, 0, 0, 0, 0, 0, 0, 0,\n",
       "       0, 0, 0, 0, 0, 0, 0, 0, 0, 0, 0, 0, 0, 0, 0, 0, 0, 0, 0, 0, 0, 0,\n",
       "       0, 0, 0, 0, 0, 0, 1, 1, 1, 1, 1, 1, 1, 1, 1, 1, 1, 1, 1, 1, 1, 1,\n",
       "       2, 1, 1, 1, 2, 1, 1, 1, 1, 1, 1, 1, 1, 1, 1, 1, 1, 2, 2, 2, 1, 1,\n",
       "       1, 1, 1, 1, 1, 1, 1, 1, 1, 1, 1, 1, 2, 2, 2, 2, 2, 2, 2, 2, 2, 2,\n",
       "       2, 2, 2, 2, 2, 2, 2, 2, 2, 2, 2, 2, 2, 2, 2, 2, 2, 2, 2, 1, 2, 2,\n",
       "       2, 2, 2, 2, 2, 2, 2, 2, 2, 2, 2, 2, 2, 2, 2, 2, 2, 2])"
      ]
     },
     "execution_count": 40,
     "metadata": {},
     "output_type": "execute_result"
    }
   ],
   "source": [
    "# Load the pickled model\n",
    "clf_from_pickle = pickle.loads(saved_model)\n",
    "\n",
    "# Use the loaded pickled model to make predictions\n",
    "clf_from_pickle.predict(X)"
   ]
  },
  {
   "cell_type": "code",
   "execution_count": 41,
   "metadata": {},
   "outputs": [
    {
     "data": {
      "text/plain": [
       "['filename.pkl']"
      ]
     },
     "execution_count": 41,
     "metadata": {},
     "output_type": "execute_result"
    }
   ],
   "source": [
    "# Save the model as a pickle in a file\n",
    "joblib.dump(clf, 'filename.pkl') "
   ]
  },
  {
   "cell_type": "code",
   "execution_count": 42,
   "metadata": {},
   "outputs": [],
   "source": [
    "# Load the model from the file\n",
    "clf_from_joblib = joblib.load('filename.pkl') "
   ]
  },
  {
   "cell_type": "code",
   "execution_count": 43,
   "metadata": {},
   "outputs": [
    {
     "data": {
      "text/plain": [
       "array([0, 0, 0, 0, 0, 0, 0, 0, 0, 0, 0, 0, 0, 0, 0, 0, 0, 0, 0, 0, 0, 0,\n",
       "       0, 0, 0, 0, 0, 0, 0, 0, 0, 0, 0, 0, 0, 0, 0, 0, 0, 0, 0, 0, 0, 0,\n",
       "       0, 0, 0, 0, 0, 0, 1, 1, 1, 1, 1, 1, 1, 1, 1, 1, 1, 1, 1, 1, 1, 1,\n",
       "       2, 1, 1, 1, 2, 1, 1, 1, 1, 1, 1, 1, 1, 1, 1, 1, 1, 2, 2, 2, 1, 1,\n",
       "       1, 1, 1, 1, 1, 1, 1, 1, 1, 1, 1, 1, 2, 2, 2, 2, 2, 2, 2, 2, 2, 2,\n",
       "       2, 2, 2, 2, 2, 2, 2, 2, 2, 2, 2, 2, 2, 2, 2, 2, 2, 2, 2, 1, 2, 2,\n",
       "       2, 2, 2, 2, 2, 2, 2, 2, 2, 2, 2, 2, 2, 2, 2, 2, 2, 2])"
      ]
     },
     "execution_count": 43,
     "metadata": {},
     "output_type": "execute_result"
    }
   ],
   "source": [
    "# Use the loaded model to make predictions\n",
    "clf_from_joblib.predict(X)"
   ]
  },
  {
   "cell_type": "code",
   "execution_count": 44,
   "metadata": {},
   "outputs": [],
   "source": [
    "#Make Simulated Data For Classification\n",
    "\n",
    "from sklearn.datasets import make_classification\n",
    "import pandas as pd"
   ]
  },
  {
   "cell_type": "code",
   "execution_count": 45,
   "metadata": {},
   "outputs": [],
   "source": [
    "# Create a simulated feature matrix and output vector with 100 samples,\n",
    "features, output = make_classification(n_samples = 100,\n",
    "                                       # ten features\n",
    "                                       n_features = 10,\n",
    "                                       # five features that actually predict the output's classes\n",
    "                                       n_informative = 5,\n",
    "                                       # five features that are random and unrelated to the output's classes\n",
    "                                       n_redundant = 5,\n",
    "                                       # three output classes\n",
    "                                       n_classes = 3,\n",
    "                                       # with 20% of observations in the first class, 30% in the second class,\n",
    "                                       # and 50% in the third class. ('None' makes balanced classes)\n",
    "                                       weights = [.2, .3, .8])"
   ]
  },
  {
   "cell_type": "code",
   "execution_count": 46,
   "metadata": {},
   "outputs": [
    {
     "data": {
      "text/html": [
       "<div>\n",
       "<style scoped>\n",
       "    .dataframe tbody tr th:only-of-type {\n",
       "        vertical-align: middle;\n",
       "    }\n",
       "\n",
       "    .dataframe tbody tr th {\n",
       "        vertical-align: top;\n",
       "    }\n",
       "\n",
       "    .dataframe thead th {\n",
       "        text-align: right;\n",
       "    }\n",
       "</style>\n",
       "<table border=\"1\" class=\"dataframe\">\n",
       "  <thead>\n",
       "    <tr style=\"text-align: right;\">\n",
       "      <th></th>\n",
       "      <th>0</th>\n",
       "      <th>1</th>\n",
       "      <th>2</th>\n",
       "      <th>3</th>\n",
       "      <th>4</th>\n",
       "      <th>5</th>\n",
       "      <th>6</th>\n",
       "      <th>7</th>\n",
       "      <th>8</th>\n",
       "      <th>9</th>\n",
       "    </tr>\n",
       "  </thead>\n",
       "  <tbody>\n",
       "    <tr>\n",
       "      <th>0</th>\n",
       "      <td>2.421793</td>\n",
       "      <td>1.486671</td>\n",
       "      <td>-0.745981</td>\n",
       "      <td>1.274938</td>\n",
       "      <td>-1.036308</td>\n",
       "      <td>2.759745</td>\n",
       "      <td>3.251566</td>\n",
       "      <td>0.290285</td>\n",
       "      <td>1.001671</td>\n",
       "      <td>-0.988758</td>\n",
       "    </tr>\n",
       "    <tr>\n",
       "      <th>1</th>\n",
       "      <td>0.070552</td>\n",
       "      <td>-1.582631</td>\n",
       "      <td>-1.945366</td>\n",
       "      <td>-0.604575</td>\n",
       "      <td>-1.165183</td>\n",
       "      <td>2.132469</td>\n",
       "      <td>1.234891</td>\n",
       "      <td>-1.057053</td>\n",
       "      <td>-0.827922</td>\n",
       "      <td>-2.653497</td>\n",
       "    </tr>\n",
       "    <tr>\n",
       "      <th>2</th>\n",
       "      <td>-1.447549</td>\n",
       "      <td>-3.831236</td>\n",
       "      <td>-2.492598</td>\n",
       "      <td>-2.966767</td>\n",
       "      <td>-1.635175</td>\n",
       "      <td>1.439375</td>\n",
       "      <td>-1.208391</td>\n",
       "      <td>-1.967878</td>\n",
       "      <td>-2.717607</td>\n",
       "      <td>-2.834055</td>\n",
       "    </tr>\n",
       "    <tr>\n",
       "      <th>3</th>\n",
       "      <td>1.359527</td>\n",
       "      <td>1.177652</td>\n",
       "      <td>-0.414354</td>\n",
       "      <td>2.335189</td>\n",
       "      <td>0.835913</td>\n",
       "      <td>0.972664</td>\n",
       "      <td>0.990774</td>\n",
       "      <td>1.240374</td>\n",
       "      <td>0.370868</td>\n",
       "      <td>0.022037</td>\n",
       "    </tr>\n",
       "    <tr>\n",
       "      <th>4</th>\n",
       "      <td>2.032979</td>\n",
       "      <td>2.055951</td>\n",
       "      <td>-2.970646</td>\n",
       "      <td>1.774658</td>\n",
       "      <td>2.009874</td>\n",
       "      <td>-0.100097</td>\n",
       "      <td>0.469924</td>\n",
       "      <td>-3.194199</td>\n",
       "      <td>0.857093</td>\n",
       "      <td>-3.373556</td>\n",
       "    </tr>\n",
       "  </tbody>\n",
       "</table>\n",
       "</div>"
      ],
      "text/plain": [
       "          0         1         2         3         4         5         6  \\\n",
       "0  2.421793  1.486671 -0.745981  1.274938 -1.036308  2.759745  3.251566   \n",
       "1  0.070552 -1.582631 -1.945366 -0.604575 -1.165183  2.132469  1.234891   \n",
       "2 -1.447549 -3.831236 -2.492598 -2.966767 -1.635175  1.439375 -1.208391   \n",
       "3  1.359527  1.177652 -0.414354  2.335189  0.835913  0.972664  0.990774   \n",
       "4  2.032979  2.055951 -2.970646  1.774658  2.009874 -0.100097  0.469924   \n",
       "\n",
       "          7         8         9  \n",
       "0  0.290285  1.001671 -0.988758  \n",
       "1 -1.057053 -0.827922 -2.653497  \n",
       "2 -1.967878 -2.717607 -2.834055  \n",
       "3  1.240374  0.370868  0.022037  \n",
       "4 -3.194199  0.857093 -3.373556  "
      ]
     },
     "execution_count": 46,
     "metadata": {},
     "output_type": "execute_result"
    }
   ],
   "source": [
    "# View the first five observations and their 10 features\n",
    "pd.DataFrame(features).head()"
   ]
  },
  {
   "cell_type": "code",
   "execution_count": 47,
   "metadata": {},
   "outputs": [
    {
     "data": {
      "text/html": [
       "<div>\n",
       "<style scoped>\n",
       "    .dataframe tbody tr th:only-of-type {\n",
       "        vertical-align: middle;\n",
       "    }\n",
       "\n",
       "    .dataframe tbody tr th {\n",
       "        vertical-align: top;\n",
       "    }\n",
       "\n",
       "    .dataframe thead th {\n",
       "        text-align: right;\n",
       "    }\n",
       "</style>\n",
       "<table border=\"1\" class=\"dataframe\">\n",
       "  <thead>\n",
       "    <tr style=\"text-align: right;\">\n",
       "      <th></th>\n",
       "      <th>0</th>\n",
       "    </tr>\n",
       "  </thead>\n",
       "  <tbody>\n",
       "    <tr>\n",
       "      <th>0</th>\n",
       "      <td>0</td>\n",
       "    </tr>\n",
       "    <tr>\n",
       "      <th>1</th>\n",
       "      <td>2</td>\n",
       "    </tr>\n",
       "    <tr>\n",
       "      <th>2</th>\n",
       "      <td>1</td>\n",
       "    </tr>\n",
       "    <tr>\n",
       "      <th>3</th>\n",
       "      <td>0</td>\n",
       "    </tr>\n",
       "    <tr>\n",
       "      <th>4</th>\n",
       "      <td>1</td>\n",
       "    </tr>\n",
       "  </tbody>\n",
       "</table>\n",
       "</div>"
      ],
      "text/plain": [
       "   0\n",
       "0  0\n",
       "1  2\n",
       "2  1\n",
       "3  0\n",
       "4  1"
      ]
     },
     "execution_count": 47,
     "metadata": {},
     "output_type": "execute_result"
    }
   ],
   "source": [
    "# View the first five observation's classes\n",
    "pd.DataFrame(output).head()"
   ]
  },
  {
   "cell_type": "code",
   "execution_count": null,
   "metadata": {},
   "outputs": [],
   "source": []
  }
 ],
 "metadata": {
  "kernelspec": {
   "display_name": "Python 3",
   "language": "python",
   "name": "python3"
  },
  "language_info": {
   "codemirror_mode": {
    "name": "ipython",
    "version": 3
   },
   "file_extension": ".py",
   "mimetype": "text/x-python",
   "name": "python",
   "nbconvert_exporter": "python",
   "pygments_lexer": "ipython3",
   "version": "3.7.1"
  }
 },
 "nbformat": 4,
 "nbformat_minor": 2
}
